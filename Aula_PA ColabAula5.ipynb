{
  "nbformat": 4,
  "nbformat_minor": 0,
  "metadata": {
    "colab": {
      "provenance": [],
      "authorship_tag": "ABX9TyOufu1S+kDyRk0biZSyRuLL",
      "include_colab_link": true
    },
    "kernelspec": {
      "name": "python3",
      "display_name": "Python 3"
    },
    "language_info": {
      "name": "python"
    }
  },
  "cells": [
    {
      "cell_type": "markdown",
      "metadata": {
        "id": "view-in-github",
        "colab_type": "text"
      },
      "source": [
        "<a href=\"https://colab.research.google.com/github/giovanniestevam22/PA_pyton/blob/main/Aula_PA%20ColabAula5.ipynb\" target=\"_parent\"><img src=\"https://colab.research.google.com/assets/colab-badge.svg\" alt=\"Open In Colab\"/></a>"
      ]
    },
    {
      "cell_type": "code",
      "execution_count": null,
      "metadata": {
        "colab": {
          "base_uri": "https://localhost:8080/"
        },
        "id": "rA7bRhyXpZ4n",
        "outputId": "af00b491-eb69-4242-95b2-4061214cda1b"
      },
      "outputs": [
        {
          "output_type": "stream",
          "name": "stdout",
          "text": [
            "Digite a primeira idade: 15\n",
            "Digite a segunda idade: 15\n",
            "A primeira idade não é maior.\n"
          ]
        }
      ],
      "source": [
        "idade1 = int(input(\"Digite a primeira idade: \"))\n",
        "idade2 = int(input(\"Digite a segunda idade: \"))\n",
        "\n",
        "if idade1 > idade2:\n",
        "    print(\"A primeira idade é maior.\")\n",
        "else:\n",
        "    print(\"A primeira idade não é maior.\")\n"
      ]
    },
    {
      "cell_type": "code",
      "source": [
        "idade = int(input(\"Digite sua idade: \"))\n",
        "senha = input(\"Digite sua senha: \")\n",
        "\n",
        "if idade > 18 and senha == \"1234\":\n",
        "    print(\"Acesso permitido.\")\n",
        "else:\n",
        "    print(\"Acesso negado.\")\n"
      ],
      "metadata": {
        "colab": {
          "base_uri": "https://localhost:8080/"
        },
        "id": "Buo30FF0tbiS",
        "outputId": "448043ec-762b-4161-e009-8331f8805681"
      },
      "execution_count": null,
      "outputs": [
        {
          "output_type": "stream",
          "name": "stdout",
          "text": [
            "Digite sua idade: 19\n",
            "Digite sua senha: 1234\n",
            "Acesso permitido.\n"
          ]
        }
      ]
    },
    {
      "cell_type": "code",
      "source": [
        "numero = int(input(\"Digite um número: \"))\n",
        "\n",
        "if numero < 10 or numero > 50:\n",
        "    print(\"O número está fora do intervalo.\")\n",
        "else:\n",
        "    print(\"O número está dentro do intervalo.\")\n"
      ],
      "metadata": {
        "colab": {
          "base_uri": "https://localhost:8080/"
        },
        "id": "DxPSFxUQteHl",
        "outputId": "494bf485-aced-42dc-f737-8e787352f696"
      },
      "execution_count": null,
      "outputs": [
        {
          "output_type": "stream",
          "name": "stdout",
          "text": [
            "Digite um número: 12\n",
            "O número está dentro do intervalo.\n"
          ]
        }
      ]
    },
    {
      "cell_type": "code",
      "source": [
        "saldo = float(input(\"Digite seu saldo: \"))\n",
        "valor_compra = float(input(\"Digite o valor da compra: \"))\n",
        "tem_cupom = input(\"Tem cupom de desconto? (s/n): \") == \"s\"\n",
        "\n",
        "if saldo >= valor_compra or tem_cupom:\n",
        "    print(\"Compra aprovada.\")\n",
        "else:\n",
        "    print(\"Compra negada.\")\n"
      ],
      "metadata": {
        "colab": {
          "base_uri": "https://localhost:8080/"
        },
        "id": "-hHOifiatg8D",
        "outputId": "b1e971ec-4296-46ce-fe38-bc65ad5f5a94"
      },
      "execution_count": null,
      "outputs": [
        {
          "output_type": "stream",
          "name": "stdout",
          "text": [
            "Digite seu saldo: 1234567\n",
            "Digite o valor da compra: 1234568\n",
            "Tem cupom de desconto? (s/n): s\n",
            "Compra aprovada.\n"
          ]
        }
      ]
    },
    {
      "cell_type": "code",
      "source": [
        "numero = int(input(\"Digite um número: \"))\n",
        "\n",
        "if numero > 0 and numero % 2 == 0:\n",
        "    print(\"O número é positivo e par.\")\n",
        "else:\n",
        "    print(\"O número não atende às condições.\")\n"
      ],
      "metadata": {
        "colab": {
          "base_uri": "https://localhost:8080/"
        },
        "id": "6j6mvdUntjZE",
        "outputId": "6002a137-4f22-4f25-a253-1bb112e497bd"
      },
      "execution_count": null,
      "outputs": [
        {
          "output_type": "stream",
          "name": "stdout",
          "text": [
            "Digite um número: 326\n",
            "O número é positivo e par.\n"
          ]
        }
      ]
    },
    {
      "cell_type": "code",
      "source": [
        "idade = int(input(\"Digite a idade: \"))\n",
        "\n",
        "if 13 <= idade <= 17:\n",
        "    print(\"É adolescente.\")\n",
        "else:\n",
        "    print(\"Não é adolescente.\")\n"
      ],
      "metadata": {
        "colab": {
          "base_uri": "https://localhost:8080/"
        },
        "id": "Mtb5pclAtmpN",
        "outputId": "5f7444e3-d55f-42d0-bead-692e55582084"
      },
      "execution_count": null,
      "outputs": [
        {
          "output_type": "stream",
          "name": "stdout",
          "text": [
            "Digite a idade: 15\n",
            "É adolescente.\n"
          ]
        }
      ]
    },
    {
      "cell_type": "code",
      "source": [
        "senha = input(\"Digite a senha: \")\n",
        "admin = input(\"É administrador? (s/n): \") == \"s\"\n",
        "\n",
        "if senha == \"12345\" or admin:\n",
        "    print(\"Acesso liberado.\")\n",
        "else:\n",
        "    print(\"Acesso negado.\")\n"
      ],
      "metadata": {
        "colab": {
          "base_uri": "https://localhost:8080/"
        },
        "id": "ledz7F5WtpU_",
        "outputId": "f497cf0e-2a8e-429c-fca3-44cc2ecf8974"
      },
      "execution_count": null,
      "outputs": [
        {
          "output_type": "stream",
          "name": "stdout",
          "text": [
            "Digite a senha: 123\n",
            "É administrador? (s/n): s\n",
            "Acesso liberado.\n"
          ]
        }
      ]
    },
    {
      "cell_type": "code",
      "source": [
        "nota = float(input(\"Digite a nota: \"))\n",
        "presente = input(\"Está presente? (s/n): \") == \"s\"\n",
        "\n",
        "if nota >= 6 and presente:\n",
        "    print(\"Aprovado.\")\n",
        "else:\n",
        "    print(\"Reprovado.\")\n"
      ],
      "metadata": {
        "colab": {
          "base_uri": "https://localhost:8080/"
        },
        "id": "L4Kf0jGytszu",
        "outputId": "753b7f61-6c77-47f4-c6db-c98083556dda"
      },
      "execution_count": null,
      "outputs": [
        {
          "output_type": "stream",
          "name": "stdout",
          "text": [
            "Digite a nota: 10\n",
            "Está presente? (s/n): s\n",
            "Aprovado.\n"
          ]
        }
      ]
    },
    {
      "cell_type": "code",
      "source": [
        "velocidade = float(input(\"Digite a velocidade: \"))\n",
        "\n",
        "if velocidade > 80:\n",
        "    print(\"Multado por excesso de velocidade.\")\n",
        "else:\n",
        "    print(\"Velocidade permitida.\")\n"
      ],
      "metadata": {
        "colab": {
          "base_uri": "https://localhost:8080/"
        },
        "id": "kR0aXxuUtvDA",
        "outputId": "4bb3fbcb-e8f8-453b-a36e-4b1f27b028d4"
      },
      "execution_count": null,
      "outputs": [
        {
          "output_type": "stream",
          "name": "stdout",
          "text": [
            "Digite a velocidade: 120\n",
            "Multado por excesso de velocidade.\n"
          ]
        }
      ]
    },
    {
      "cell_type": "code",
      "source": [
        "idade = int(input(\"Digite sua idade: \"))\n",
        "tem_convite = input(\"Tem convite? (s/n): \") == \"s\"\n",
        "\n",
        "if idade >= 18 and tem_convite:\n",
        "    print(\"Entrada permitida.\")\n",
        "else:\n",
        "    print(\"Entrada negada.\")\n"
      ],
      "metadata": {
        "colab": {
          "base_uri": "https://localhost:8080/"
        },
        "id": "ucOLN_2Ztypo",
        "outputId": "0e169faa-cb41-4a65-b436-2a52f11740a6"
      },
      "execution_count": null,
      "outputs": [
        {
          "output_type": "stream",
          "name": "stdout",
          "text": [
            "Digite sua idade: 15\n",
            "Tem convite? (s/n): s\n",
            "Entrada negada.\n"
          ]
        }
      ]
    }
  ]
}