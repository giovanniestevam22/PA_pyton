{
  "nbformat": 4,
  "nbformat_minor": 0,
  "metadata": {
    "colab": {
      "provenance": [],
      "authorship_tag": "ABX9TyPdtXVYNDLnWpoNSzrIZOnP",
      "include_colab_link": true
    },
    "kernelspec": {
      "name": "python3",
      "display_name": "Python 3"
    },
    "language_info": {
      "name": "python"
    }
  },
  "cells": [
    {
      "cell_type": "markdown",
      "metadata": {
        "id": "view-in-github",
        "colab_type": "text"
      },
      "source": [
        "<a href=\"https://colab.research.google.com/github/giovanniestevam22/PA_pyton/blob/main/Aula_PA%20Colab/AulaPA3.ipynb\" target=\"_parent\"><img src=\"https://colab.research.google.com/assets/colab-badge.svg\" alt=\"Open In Colab\"/></a>"
      ]
    },
    {
      "cell_type": "code",
      "execution_count": 5,
      "metadata": {
        "colab": {
          "base_uri": "https://localhost:8080/"
        },
        "id": "3KQ1Evd5VJ5n",
        "outputId": "7af9b373-9857-4ae4-b2d0-862c57a14c78"
      },
      "outputs": [
        {
          "output_type": "stream",
          "name": "stdout",
          "text": [
            "Digite a primeira nota:7.27\n",
            "Digite a segunda nota:9.35\n",
            "A média do aluno é 8.309999999999999\n"
          ]
        }
      ],
      "source": [
        "#Calcular média do aluno\n",
        "\n",
        "##Entrada\n",
        "nota1 = float(input(\"Digite a primeira nota:\"))\n",
        "nota2 = float(input(\"Digite a segunda nota:\"))\n",
        "##Processamento\n",
        "media = (nota1 + nota2)/ 2\n",
        "##Saída\n",
        "print(\"A média do aluno é\",media)\n",
        "\n"
      ]
    },
    {
      "cell_type": "code",
      "source": [
        "#Calcular graus celsius para farenheit\n",
        "\n",
        "##Entrada\n",
        "celsius = float(input(\"Digite a temperatura em celsius:\"))\n",
        "##Processamento\n",
        "farenheit = (celsius * 9/5) + 32\n",
        "##Saída\n",
        "print(\"A temperatura em farenheit é\",farenheit)"
      ],
      "metadata": {
        "colab": {
          "base_uri": "https://localhost:8080/"
        },
        "id": "1I5DTypsa4VU",
        "outputId": "b4bb5ef2-8d0b-423b-c113-8d03fa560d56"
      },
      "execution_count": 6,
      "outputs": [
        {
          "output_type": "stream",
          "name": "stdout",
          "text": [
            "Digite a temperatura em celsius:23\n",
            "A temperatura em farenheit é 73.4\n"
          ]
        }
      ]
    },
    {
      "cell_type": "code",
      "source": [
        "#Calcular graus farennheit para celsius\n",
        "\n",
        "##Entrada\n",
        "farenheit = float(input(\"Digite a temperatura em farenheit:\"))\n",
        "##Processamento\n",
        "celsius = (farenheit - 32) * 5/9\n",
        "##Saída\n",
        "print(\"A temperatura em celsius é\",celsius)"
      ],
      "metadata": {
        "colab": {
          "base_uri": "https://localhost:8080/"
        },
        "id": "IrI5HX6QeS3C",
        "outputId": "e7551a9f-df29-490e-ef55-7331a71c3b60"
      },
      "execution_count": 7,
      "outputs": [
        {
          "output_type": "stream",
          "name": "stdout",
          "text": [
            "Digite a temperatura em farenheit:23\n",
            "A temperatura em celsius é -5.0\n"
          ]
        }
      ]
    }
  ]
}