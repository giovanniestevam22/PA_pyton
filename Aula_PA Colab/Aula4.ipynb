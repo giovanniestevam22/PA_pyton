{
  "nbformat": 4,
  "nbformat_minor": 0,
  "metadata": {
    "colab": {
      "provenance": [],
      "authorship_tag": "ABX9TyOvc/nG40I85ZBiVhdN8cmt",
      "include_colab_link": true
    },
    "kernelspec": {
      "name": "python3",
      "display_name": "Python 3"
    },
    "language_info": {
      "name": "python"
    }
  },
  "cells": [
    {
      "cell_type": "markdown",
      "metadata": {
        "id": "view-in-github",
        "colab_type": "text"
      },
      "source": [
        "<a href=\"https://colab.research.google.com/github/giovanniestevam22/PA_pyton/blob/main/Aula_PA%20Colab/Aula4.ipynb\" target=\"_parent\"><img src=\"https://colab.research.google.com/assets/colab-badge.svg\" alt=\"Open In Colab\"/></a>"
      ]
    },
    {
      "cell_type": "code",
      "execution_count": 2,
      "metadata": {
        "colab": {
          "base_uri": "https://localhost:8080/"
        },
        "id": "W6vsh-4Xok7g",
        "outputId": "3b6dbd81-df18-4852-b28b-ad32132a5a75"
      },
      "outputs": [
        {
          "output_type": "stream",
          "name": "stdout",
          "text": [
            "Digite o número:468909854245\n",
            "O número é impar\n"
          ]
        }
      ],
      "source": [
        "#Dizer se o número é par ou impar\n",
        "\n",
        "##Entrada\n",
        "Num = float(input(\"Digite o número:\"))\n",
        "##Processamento\n",
        "if Num % 2 == 0:\n",
        "    print(\"O número é par\")\n",
        "else:\n",
        "    print(\"O número é impar\")\n"
      ]
    },
    {
      "cell_type": "code",
      "source": [
        "# Função para verificar se os lados formam um triângulo e identificar o tipo\n",
        "def verificar_triangulo(l1, l2, l3):\n",
        "    # Verificando se é um triângulo válido\n",
        "    triangulo = (l1 + l2 > l3) and (l1 + l3 > l2) and (l2 + l3 > l1)\n",
        "\n",
        "    # Inicializando as variáveis para os tipos de triângulo\n",
        "    equilatero = False\n",
        "    escaleno = False\n",
        "    isosceles = False\n",
        "\n",
        "    # Se for um triângulo, verificar o tipo\n",
        "    if triangulo:\n",
        "        if l1 == l2 == l3:\n",
        "            equilatero = True\n",
        "        elif l1 != l2 and l1 != l3 and l2 != l3:\n",
        "            escaleno = True\n",
        "        else:\n",
        "            isosceles = True\n",
        "\n",
        "    # Retornando os resultados\n",
        "    return {\n",
        "        'triangulo': triangulo,\n",
        "        'equilatero': equilatero,\n",
        "        'escaleno': escaleno,\n",
        "        'isosceles': isosceles\n",
        "    }\n",
        "\n",
        "# Entrada dos lados do triângulo\n",
        "l1 = float(input(\"Digite o valor do lado 1: \"))\n",
        "l2 = float(input(\"Digite o valor do lado 2: \"))\n",
        "l3 = float(input(\"Digite o valor do lado 3: \"))\n",
        "\n",
        "# Chamando a função e armazenando o resultado\n",
        "resultado = verificar_triangulo(l1, l2, l3)\n",
        "\n",
        "# Exibindo os resultados\n",
        "print(f\"\\nTriângulo pode ser formado? {resultado['triangulo']}\")\n",
        "print(f\"É equilátero? {resultado['equilatero']}\")\n",
        "print(f\"É escaleno? {resultado['escaleno']}\")\n",
        "print(f\"É isósceles? {resultado['isosceles']}\")\n"
      ],
      "metadata": {
        "colab": {
          "base_uri": "https://localhost:8080/"
        },
        "id": "GnQmt9e7qKzH",
        "outputId": "2fda7b33-9a83-4353-9f98-e28b5b1c6f78"
      },
      "execution_count": 3,
      "outputs": [
        {
          "output_type": "stream",
          "name": "stdout",
          "text": [
            "Digite o valor do lado 1: 345\n",
            "Digite o valor do lado 2: 345\n",
            "Digite o valor do lado 3: 234\n",
            "\n",
            "Triângulo pode ser formado? True\n",
            "É equilátero? False\n",
            "É escaleno? False\n",
            "É isósceles? True\n"
          ]
        }
      ]
    },
    {
      "cell_type": "code",
      "source": [
        "#Calcular indece de massa corporal\n",
        "##Entrada\n",
        "peso = float(input(\"digite o peso:\"))\n",
        "altura = float(input(\"digite a altura:\"))\n",
        "##Processamento\n",
        "imc = peso / altura ** 2\n",
        "##saída\n",
        "if imc < 18.5:\n",
        "    print(\"Abaixo do peso\")\n",
        "if imc >= 18.5 and imc < 25:\n",
        "    print(\"Peso normal\")\n",
        "if imc >= 25 and imc < 30:\n",
        "    print(\"Sobrepeso\")\n",
        "if imc >= 30 and imc < 35:\n",
        "    print(\"Obesidade grau 1\")\n",
        "if imc >= 35 and imc < 40:\n",
        "    print(\"Obesidade grau 2\")\n",
        "if imc >= 40:\n",
        "    print(\"Obesidade grau 3\")"
      ],
      "metadata": {
        "colab": {
          "base_uri": "https://localhost:8080/"
        },
        "id": "JQ8901jlrFqe",
        "outputId": "7236d1ce-1560-4e4e-f710-d2656589c592"
      },
      "execution_count": 28,
      "outputs": [
        {
          "output_type": "stream",
          "name": "stdout",
          "text": [
            "digite o peso:50\n",
            "digite a altura:1.50\n",
            "Peso normal\n"
          ]
        }
      ]
    }
  ]
}