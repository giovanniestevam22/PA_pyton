{
  "nbformat": 4,
  "nbformat_minor": 0,
  "metadata": {
    "colab": {
      "provenance": [],
      "authorship_tag": "ABX9TyMh6wtF33y3ZcVyqZ6rqRWJ",
      "include_colab_link": true
    },
    "kernelspec": {
      "name": "python3",
      "display_name": "Python 3"
    },
    "language_info": {
      "name": "python"
    }
  },
  "cells": [
    {
      "cell_type": "markdown",
      "metadata": {
        "id": "view-in-github",
        "colab_type": "text"
      },
      "source": [
        "<a href=\"https://colab.research.google.com/github/giovanniestevam22/PA_pyton/blob/main/Aula_PA%20Colab/Aula_8.ipynb\" target=\"_parent\"><img src=\"https://colab.research.google.com/assets/colab-badge.svg\" alt=\"Open In Colab\"/></a>"
      ]
    },
    {
      "cell_type": "code",
      "source": [
        "#ENTRADA\n",
        "valor_original = float(input(\"Informe o valor original do medicamento (em R$): \"))\n",
        "idade = int(input(\"Informe a idade do cliente: \"))\n",
        "\n",
        "#PROCESSAMENTO\n",
        "desconto = 0\n",
        "\n",
        "if idade < 12:\n",
        "    desconto = 0.15\n",
        "elif 60 <= idade <= 75:\n",
        "    desconto = 0.20\n",
        "elif idade > 75:\n",
        "    desconto = 0.25\n",
        "\n",
        "valor_desconto = valor_original * desconto\n",
        "valor_final = valor_original - valor_desconto\n",
        "\n",
        "#SAÍDA\n",
        "if desconto > 0:\n",
        "    print(f\"Desconto aplicado: R$ {valor_desconto:.2f} ({int(desconto * 100)}%)\")\n",
        "else:\n",
        "    print(\"Cliente não tem direito a desconto.\")\n",
        "\n",
        "print(f\"Valor final a pagar: R$ {valor_final:.2f}\")\n"
      ],
      "metadata": {
        "colab": {
          "base_uri": "https://localhost:8080/"
        },
        "id": "YGqkKryk9b53",
        "outputId": "ff94b756-4eed-4af4-a983-789dda6e3463"
      },
      "execution_count": 1,
      "outputs": [
        {
          "output_type": "stream",
          "name": "stdout",
          "text": [
            "Informe o valor original do medicamento (em R$): 100\n",
            "Informe a idade do cliente: 15\n",
            "Cliente não tem direito a desconto.\n",
            "Valor final a pagar: R$ 100.00\n"
          ]
        }
      ]
    }
  ]
}