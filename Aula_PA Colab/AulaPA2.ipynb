{
  "nbformat": 4,
  "nbformat_minor": 0,
  "metadata": {
    "colab": {
      "provenance": [],
      "authorship_tag": "ABX9TyNEH8ipPvn9NsrDZgcJVlxG",
      "include_colab_link": true
    },
    "kernelspec": {
      "name": "python3",
      "display_name": "Python 3"
    },
    "language_info": {
      "name": "python"
    }
  },
  "cells": [
    {
      "cell_type": "markdown",
      "metadata": {
        "id": "view-in-github",
        "colab_type": "text"
      },
      "source": [
        "<a href=\"https://colab.research.google.com/github/giovanniestevam22/PA_pyton/blob/main/Aula_PA%20Colab/AulaPA2.ipynb\" target=\"_parent\"><img src=\"https://colab.research.google.com/assets/colab-badge.svg\" alt=\"Open In Colab\"/></a>"
      ]
    },
    {
      "cell_type": "markdown",
      "source": [
        "Operações"
      ],
      "metadata": {
        "id": "v-WguyPq0XPj"
      }
    },
    {
      "cell_type": "code",
      "execution_count": null,
      "metadata": {
        "colab": {
          "base_uri": "https://localhost:8080/"
        },
        "id": "MSgA4cqrxS1D",
        "outputId": "e2d1c942-4082-4055-e4de-1e91122a97ab"
      },
      "outputs": [
        {
          "output_type": "execute_result",
          "data": {
            "text/plain": [
              "79"
            ]
          },
          "metadata": {},
          "execution_count": 7
        }
      ],
      "source": [
        "#Soma\n",
        "\n",
        "37+42"
      ]
    },
    {
      "cell_type": "code",
      "source": [
        "#Subtração\n",
        "\n",
        "278-127"
      ],
      "metadata": {
        "colab": {
          "base_uri": "https://localhost:8080/"
        },
        "id": "xjai9VFoxtCB",
        "outputId": "80c38356-4572-4424-fb9b-bd530d4a057d"
      },
      "execution_count": null,
      "outputs": [
        {
          "output_type": "execute_result",
          "data": {
            "text/plain": [
              "151"
            ]
          },
          "metadata": {},
          "execution_count": 12
        }
      ]
    },
    {
      "cell_type": "code",
      "source": [
        "#Multiplicação\n",
        "\n",
        "57*18\n"
      ],
      "metadata": {
        "colab": {
          "base_uri": "https://localhost:8080/"
        },
        "id": "bqdUF65Zx713",
        "outputId": "4da5f89d-7a5e-490f-d81a-eef587a06821"
      },
      "execution_count": null,
      "outputs": [
        {
          "output_type": "execute_result",
          "data": {
            "text/plain": [
              "1026"
            ]
          },
          "metadata": {},
          "execution_count": 9
        }
      ]
    },
    {
      "cell_type": "code",
      "source": [
        "#Divisão\n",
        "\n",
        "1232/4"
      ],
      "metadata": {
        "colab": {
          "base_uri": "https://localhost:8080/"
        },
        "id": "tXJUVZVAyNnf",
        "outputId": "2a5fa6d1-0af7-4d81-c1eb-55fd6fd5db70"
      },
      "execution_count": null,
      "outputs": [
        {
          "output_type": "execute_result",
          "data": {
            "text/plain": [
              "308.0"
            ]
          },
          "metadata": {},
          "execution_count": 14
        }
      ]
    },
    {
      "cell_type": "code",
      "source": [
        "#Expoente\n",
        "\n",
        "5**3"
      ],
      "metadata": {
        "colab": {
          "base_uri": "https://localhost:8080/"
        },
        "id": "Dzoo0Zt7y4r8",
        "outputId": "a1a51f68-ef41-4e4a-be53-296781fd1b32"
      },
      "execution_count": null,
      "outputs": [
        {
          "output_type": "execute_result",
          "data": {
            "text/plain": [
              "125"
            ]
          },
          "metadata": {},
          "execution_count": 26
        }
      ]
    },
    {
      "cell_type": "markdown",
      "source": [
        "Variáveis"
      ],
      "metadata": {
        "id": "afd6evNyzQrP"
      }
    },
    {
      "cell_type": "code",
      "source": [
        "soma = 5+7"
      ],
      "metadata": {
        "id": "G2HLutvozc7D"
      },
      "execution_count": 165,
      "outputs": []
    },
    {
      "cell_type": "code",
      "source": [
        "print(\"a soma é igual à\",soma)"
      ],
      "metadata": {
        "colab": {
          "base_uri": "https://localhost:8080/"
        },
        "id": "-okbV9af0A5n",
        "outputId": "b6c4d728-a42a-4fa3-d576-3ef4a65f44a8"
      },
      "execution_count": 163,
      "outputs": [
        {
          "output_type": "stream",
          "name": "stdout",
          "text": [
            "a soma é igual à 186.66666666666566\n"
          ]
        }
      ]
    },
    {
      "cell_type": "code",
      "source": [
        "soma"
      ],
      "metadata": {
        "colab": {
          "base_uri": "https://localhost:8080/"
        },
        "id": "Bj8JiJr10hv0",
        "outputId": "c72edda9-8ec4-4962-c5a1-72ba6236a624"
      },
      "execution_count": 167,
      "outputs": [
        {
          "output_type": "execute_result",
          "data": {
            "text/plain": [
              "12"
            ]
          },
          "metadata": {},
          "execution_count": 167
        }
      ]
    },
    {
      "cell_type": "code",
      "source": [
        "soma = soma + 22\n",
        "print(\"a soma agora é\",soma)"
      ],
      "metadata": {
        "colab": {
          "base_uri": "https://localhost:8080/"
        },
        "id": "oL6LOi_B0lJO",
        "outputId": "ad6e3ca7-ee8e-4191-986d-34b03295cb0f"
      },
      "execution_count": 77,
      "outputs": [
        {
          "output_type": "stream",
          "name": "stdout",
          "text": [
            "a soma agora é 1119.6666666666665\n"
          ]
        }
      ]
    },
    {
      "cell_type": "code",
      "source": [
        "soma = soma - 5\n",
        "print(\"a soma agora é\",soma)"
      ],
      "metadata": {
        "colab": {
          "base_uri": "https://localhost:8080/"
        },
        "id": "RF9aHfr01vET",
        "outputId": "9e65447f-3ca1-43ae-9b42-86076c9d9eee"
      },
      "execution_count": 80,
      "outputs": [
        {
          "output_type": "stream",
          "name": "stdout",
          "text": [
            "a soma agora é 1104.6666666666665\n"
          ]
        }
      ]
    },
    {
      "cell_type": "code",
      "source": [
        "soma= soma +2-5*8/3\n",
        "print(\"a soma agora tem\",soma)"
      ],
      "metadata": {
        "colab": {
          "base_uri": "https://localhost:8080/"
        },
        "id": "Sv_pRuXX2asj",
        "outputId": "b2c06685-004b-431c-c280-a05fcc3690e9"
      },
      "execution_count": 161,
      "outputs": [
        {
          "output_type": "stream",
          "name": "stdout",
          "text": [
            "a soma agora tem 186.66666666666566\n"
          ]
        }
      ]
    },
    {
      "cell_type": "code",
      "source": [
        "#Calcular area do quadrado\n",
        "\n",
        "##Entrada\n",
        "lado = float(input(\"digite o lado do quadrado\"))\n",
        "\n",
        "##Processamento\n",
        "area = lado * lado\n",
        "\n",
        "##Saída\n",
        "print(\"a área do quadrado é\",area,'cm2')"
      ],
      "metadata": {
        "colab": {
          "base_uri": "https://localhost:8080/"
        },
        "id": "6jEFvrq252fu",
        "outputId": "dd331562-622d-4685-dfd1-4686a71da3ce"
      },
      "execution_count": 162,
      "outputs": [
        {
          "output_type": "stream",
          "name": "stdout",
          "text": [
            "digite o lado do quadrado5\n",
            "a área do quadrado é 25.0 cm2\n"
          ]
        }
      ]
    }
  ]
}