{
  "nbformat": 4,
  "nbformat_minor": 0,
  "metadata": {
    "colab": {
      "provenance": [],
      "authorship_tag": "ABX9TyM6u1KZpuNHlVZpKXs2CutY",
      "include_colab_link": true
    },
    "kernelspec": {
      "name": "python3",
      "display_name": "Python 3"
    },
    "language_info": {
      "name": "python"
    }
  },
  "cells": [
    {
      "cell_type": "markdown",
      "metadata": {
        "id": "view-in-github",
        "colab_type": "text"
      },
      "source": [
        "<a href=\"https://colab.research.google.com/github/giovanniestevam22/PA_pyton/blob/main/Aula_PA%20Colab/aula6.ipynb\" target=\"_parent\"><img src=\"https://colab.research.google.com/assets/colab-badge.svg\" alt=\"Open In Colab\"/></a>"
      ]
    },
    {
      "cell_type": "code",
      "execution_count": null,
      "metadata": {
        "colab": {
          "base_uri": "https://localhost:8080/"
        },
        "id": "1mGthTFh47mD",
        "outputId": "28ece09f-50e7-4e8f-a4ed-42a7a2044915"
      },
      "outputs": [
        {
          "output_type": "stream",
          "name": "stdout",
          "text": [
            "digite o ano:3904\n",
            "o ano é bissexto\n"
          ]
        }
      ],
      "source": [
        "#saber se o ano é bissexto\n",
        "##Entrada\n",
        "\n",
        "Ano = int(input(\"digite o ano:\"))\n",
        "\n",
        "##processamento\n",
        "\n",
        "if (Ano % 4 == 0 and Ano % 100 != 0) or (Ano % 400 == 0):\n",
        "    print(\"o ano é bissexto\")\n",
        "else:\n",
        "    print(\"o ano não é bissexto\")\n",
        "\n"
      ]
    },
    {
      "cell_type": "code",
      "source": [
        "# classificar idade\n",
        "\n",
        "# Entrada\n",
        "idade = int(input(\"Digite a idade: \"))\n",
        "\n",
        "# Processamento\n",
        "if idade >= 0 and idade <= 12:\n",
        "    print(\"criança\")\n",
        "elif idade >= 13 and idade <= 17:\n",
        "    print(\"adolescente\")\n",
        "elif idade >= 18 and idade <= 59:\n",
        "    print(\"adulto\")\n",
        "elif idade >= 60:\n",
        "    print(\"idoso\")\n",
        "else:\n",
        "    print(\"idade inválida\")\n",
        "\n"
      ],
      "metadata": {
        "colab": {
          "base_uri": "https://localhost:8080/"
        },
        "id": "eQrNl03166_e",
        "outputId": "d5e831ec-7801-4643-df9f-1a03cfc4edbb"
      },
      "execution_count": null,
      "outputs": [
        {
          "output_type": "stream",
          "name": "stdout",
          "text": [
            "Digite a idade: 44447777777777777722222222627463728347929402919738354547882993003892928838378273778820030378367883938373673736737737373773737373733733733737373733733733737373737373377373\n",
            "idoso\n"
          ]
        }
      ]
    },
    {
      "cell_type": "code",
      "source": [
        "#ver se o numero esta no intervalo\n",
        "##Entrada\n",
        "\n",
        "numero = int(input(\"digite o numero:\"))\n",
        "\n",
        "##processamento\n",
        "\n",
        "if numero >= 10 and numero <= 20:\n",
        "    print(\"esta no intervalo\")\n",
        "else:\n",
        "    print(\"não esta no intervalo\")"
      ],
      "metadata": {
        "colab": {
          "base_uri": "https://localhost:8080/"
        },
        "id": "3DFvyZj57qO0",
        "outputId": "7f62f041-f4bd-4959-c8f4-70bdbf102f7a"
      },
      "execution_count": null,
      "outputs": [
        {
          "output_type": "stream",
          "name": "stdout",
          "text": [
            "digite o numero:65\n",
            "não esta no intervalo\n"
          ]
        }
      ]
    },
    {
      "cell_type": "code",
      "source": [
        "# Simulador de Empréstimo Bancário\n",
        "\n",
        "# Solicita os dados do usuário\n",
        "valor_emprestimo = float(input(\"Digite o valor do empréstimo: R$ \"))\n",
        "salario_mensal = float(input(\"Digite seu salário mensal: R$ \"))\n",
        "numero_parcelas = int(input(\"Digite o número de parcelas: \"))\n",
        "\n",
        "# Calcula o valor da parcela\n",
        "valor_parcela = valor_emprestimo / numero_parcelas\n",
        "\n",
        "# Regra: a parcela não pode ultrapassar 30% do salário\n",
        "limite_parcela = salario_mensal * 0.3\n",
        "\n",
        "# Verificação usando if\n",
        "if valor_parcela <= limite_parcela:\n",
        "    print(\"Empréstimo APROVADO!\")\n",
        "    print(f\"Valor da parcela: R$ {valor_parcela:.2f}\")\n",
        "else:\n",
        "    print(\"Empréstimo NEGADO!\")\n",
        "    print(f\"Valor da parcela (R$ {valor_parcela:.2f}) excede 30% do salário (R$ {limite_parcela:.2f})\")\n"
      ],
      "metadata": {
        "colab": {
          "base_uri": "https://localhost:8080/"
        },
        "id": "GIAcJrUZIoGz",
        "outputId": "7d1de3f5-80a6-4a18-c106-c18b939e3598"
      },
      "execution_count": null,
      "outputs": [
        {
          "output_type": "stream",
          "name": "stdout",
          "text": [
            "Digite o valor do empréstimo: R$ 5000\n",
            "Digite seu salário mensal: R$ 12000\n",
            "Digite o número de parcelas: 22\n",
            "Empréstimo APROVADO!\n",
            "Valor da parcela: R$ 227.27\n"
          ]
        }
      ]
    }
  ]
}